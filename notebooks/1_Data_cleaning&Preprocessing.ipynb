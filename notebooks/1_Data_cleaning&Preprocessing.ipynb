{
 "cells": [
  {
   "cell_type": "code",
   "execution_count": 18,
   "id": "c1dd8441",
   "metadata": {},
   "outputs": [],
   "source": [
    "import pandas as pd\n",
    "import matplotlib.pyplot as plt\n",
    "import seaborn as sns"
   ]
  },
  {
   "cell_type": "code",
   "execution_count": 19,
   "id": "d31e90e4",
   "metadata": {},
   "outputs": [],
   "source": [
    "#loading data from csv\n",
    "orders=pd.read_csv(r\"..\\Data\\olist_orders_dataset.csv\")\n",
    "order_items = pd.read_csv(r\"../data/olist_order_items_dataset.csv\")  \n",
    "reviews = pd.read_csv(r\"../data/olist_order_reviews_dataset.csv\") \n",
    "category_translation = pd.read_csv(r\"../Data/product_category_name_translation.csv\")\n",
    "products=pd.read_csv(r\"../Data/olist_products_dataset.csv\")\n"
   ]
  },
  {
   "cell_type": "code",
   "execution_count": 20,
   "id": "0a484fe5",
   "metadata": {},
   "outputs": [
    {
     "name": "stdout",
     "output_type": "stream",
     "text": [
      "Orders shape: (99441, 8)\n",
      "Order items shape: (112650, 7)\n",
      "reviews shape: (99224, 7)\n",
      "category translation shape: (71, 2)\n",
      "products shape: (32951, 9)\n"
     ]
    }
   ],
   "source": [
    "  \n",
    "print(\"Orders shape:\", orders.shape)  \n",
    "print(\"Order items shape:\", order_items.shape)  \n",
    "print(\"reviews shape:\", reviews.shape)  \n",
    "print(\"category translation shape:\", category_translation.shape)  \n",
    "print(\"products shape:\", products.shape)  \n",
    " "
   ]
  },
  {
   "cell_type": "code",
   "execution_count": 21,
   "id": "a75dfa8d",
   "metadata": {},
   "outputs": [],
   "source": [
    "# Step 1: Merge orders + order_items\n",
    "sales_data=pd.merge(orders,order_items,on=\"order_id\",how=\"inner\")\n",
    "\n"
   ]
  },
  {
   "cell_type": "code",
   "execution_count": 22,
   "id": "82c4461f",
   "metadata": {},
   "outputs": [],
   "source": [
    "# 2. Add product details\n",
    "sales_data = pd.merge(sales_data,products,on='product_id',how='left')\n"
   ]
  },
  {
   "cell_type": "code",
   "execution_count": 23,
   "id": "dc3ae2b8",
   "metadata": {},
   "outputs": [],
   "source": [
    "# 3. Translate categories to English\n",
    "sales_data = pd.merge(sales_data,category_translation,on='product_category_name',how='left')\n"
   ]
  },
  {
   "cell_type": "code",
   "execution_count": 24,
   "id": "a298f8fb",
   "metadata": {},
   "outputs": [],
   "source": [
    "#4. Convert review dates to datetime\n",
    "#reviews['review_creation_date'] = pd.to_datetime(reviews['review_creation_date'])\n",
    "\n",
    "#4. Sort and keep last review per order\n",
    "reviews = reviews.sort_values('review_creation_date').drop_duplicates('order_id', keep='last')\n",
    "\n",
    "# Then merge\n",
    "full_data = pd.merge(\n",
    "    sales_data,\n",
    "    reviews[['order_id', 'review_score', 'review_comment_message']],\n",
    "    on='order_id',\n",
    "    how='left'\n",
    ")\n",
    "\n",
    "#print(full_data.shape)"
   ]
  },
  {
   "cell_type": "code",
   "execution_count": 25,
   "id": "cc4ad059",
   "metadata": {},
   "outputs": [],
   "source": [
    "#print(full_data.isnull().sum().sort_values(ascending=False))"
   ]
  },
  {
   "cell_type": "code",
   "execution_count": 26,
   "id": "2be02983",
   "metadata": {},
   "outputs": [],
   "source": [
    "#Handling Missing Values\n",
    "# A. Review scores (fill unreviewed orders with median)\n",
    "review_median=full_data['review_score'].median()\n",
    "full_data['review_score']=full_data['review_score'].fillna(review_median)\n",
    "\n",
    "# B. Product Weight\n",
    "\n",
    "overall_median = full_data['product_weight_g'].median()\n",
    "full_data['product_weight_g'] = full_data['product_weight_g'].fillna(overall_median)\n",
    "\n",
    "# C. Freight values (fill with 0 if missing)\n",
    "full_data['freight_value'] = full_data['freight_value'].fillna(0)\n"
   ]
  },
  {
   "cell_type": "code",
   "execution_count": 27,
   "id": "0d6e82ff",
   "metadata": {},
   "outputs": [],
   "source": [
    "#2. Fix Data Types\n",
    "# Convert dates\n",
    "date_cols = ['order_purchase_timestamp', 'shipping_limit_date','order_approved_at','order_delivered_carrier_date','order_delivered_customer_date','order_estimated_delivery_date']\n",
    "for col in date_cols:\n",
    "    full_data[col] = pd.to_datetime(full_data[col], errors='coerce')\n",
    "\n",
    "# Convert categoricals\n",
    "full_data['product_category_name_english'] = full_data['product_category_name_english'].astype('category')\n",
    "#print(full_data.shape)"
   ]
  },
  {
   "cell_type": "code",
   "execution_count": 28,
   "id": "1109b8a7",
   "metadata": {},
   "outputs": [],
   "source": [
    "#3. Handle Outliers\n",
    "# A. Price outliers (cap at 99th percentile)\n",
    "price_cap = full_data['price'].quantile(0.99)\n",
    "full_data['price'] = full_data['price'].clip(upper=price_cap)\n",
    "\n",
    "# B. Delivery time outliers\n",
    "full_data['delivery_days'] = (full_data['order_delivered_customer_date'] - \n",
    "                             full_data['order_purchase_timestamp']).dt.days\n",
    "full_data = full_data[(full_data['delivery_days'] > 0) & \n",
    "                     (full_data['delivery_days'] < 100)]  # Remove unrealistic values\n"
   ]
  },
  {
   "cell_type": "code",
   "execution_count": 29,
   "id": "74a876d0",
   "metadata": {},
   "outputs": [],
   "source": [
    "#Create New Features\n",
    "# A. Shipping efficiency\n",
    "full_data['weight_to_freight_ratio'] = full_data['product_weight_g'] / (full_data['freight_value'] + 0.01)  # Avoid division by zero\n",
    "\n",
    "# B. Review sentiment flag\n",
    "full_data['positive_review'] = (full_data['review_score'] >= 4).astype(int)\n",
    "\n",
    "# C. Purchase time features\n",
    "full_data['purchase_hour'] = full_data['order_purchase_timestamp'].dt.hour\n",
    "full_data['purchase_day_of_week'] = full_data['order_purchase_timestamp'].dt.day_name()\n"
   ]
  },
  {
   "cell_type": "code",
   "execution_count": 30,
   "id": "6450ed55",
   "metadata": {},
   "outputs": [],
   "source": [
    "#5. Final Validation Checks\n",
    "\n",
    "#  A. Check financial consistency\n",
    "assert (full_data['price'] > 0).all(), \"Negative prices found\"\n",
    "assert (full_data['freight_value'] >= 0).all(), \"Negative freight values\""
   ]
  },
  {
   "cell_type": "code",
   "execution_count": null,
   "id": "abda4757",
   "metadata": {},
   "outputs": [
    {
     "name": "stdout",
     "output_type": "stream",
     "text": [
      "Found 16942 duplicate order-product pairs\n",
      "order_id\n",
      "ab14fdcfbe524636d65ee38360e22ce8    20\n",
      "1b15974a0141d54e36626dca3fdc731a    20\n",
      "8272b63d03f5f79c56e9e4120aec44ef    20\n",
      "428a2f660dc84138d969ccd69a0ab6d5    15\n",
      "9ef13efd6949e4573a18964dd1bbe7f5    15\n",
      "Name: count, dtype: int64\n",
      "\n",
      "All duplicates have identical prices - keeping first occurrence\n",
      "\n",
      "Final shape: (100115, 30)\n"
     ]
    }
   ],
   "source": [
    "# Get all duplicate order-product pairs\n",
    "duplicates = full_data[full_data.duplicated(['order_id', 'product_id'], keep=False)]\n",
    "\n",
    "# Show most frequent duplicates\n",
    "print(f\"Found {len(duplicates)} duplicate order-product pairs\")\n",
    "print(duplicates['order_id'].value_counts().head())\n",
    "# Check if duplicates have different prices\n",
    "price_variation = duplicates.groupby(['order_id', 'product_id'])['price'].std().fillna(0)\n",
    "if price_variation.max() > 0:\n",
    "    print(\"\\nWarning: Some duplicates have different prices!\")\n",
    "    print(\"Aggregating prices...\")\n",
    "    deduplicated = full_data.groupby(['order_id', 'product_id'], as_index=False).agg({\n",
    "        'price': 'sum',\n",
    "        **{col: 'first' for col in full_data.columns if col not in ['order_id', 'product_id', 'price']}\n",
    "    })\n",
    "else:\n",
    "    print(\"\\nAll duplicates have identical prices - keeping first occurrence\")\n",
    "    deduplicated = full_data.drop_duplicates(['order_id', 'product_id'])\n",
    "\n",
    "# Final validation\n",
    "assert not deduplicated.duplicated(['order_id', 'product_id']).any()\n",
    "#print(f\"\\nFinal shape: {deduplicated.shape}\")\n"
   ]
  },
  {
   "cell_type": "code",
   "execution_count": 32,
   "id": "5216e9f3",
   "metadata": {},
   "outputs": [
    {
     "data": {
      "text/plain": [
       "'print(\"Missing values after cleaning:\")\\nprint(full_data[[\\'product_category_name\\', \\'product_category_name_english\\']].isnull().sum())\\nprint(\"\\nCategory counts:\")\\nprint(full_data[\\'product_category_name_english\\'].value_counts(dropna=False))'"
      ]
     },
     "execution_count": 32,
     "metadata": {},
     "output_type": "execute_result"
    }
   ],
   "source": [
    "# 1. First convert the categorical columns to regular strings\n",
    "full_data['product_category_name'] = full_data['product_category_name'].astype(str)\n",
    "full_data['product_category_name_english'] = full_data['product_category_name_english'].astype(str)\n",
    "\n",
    "# 2. Now replace empty strings and 'nan' with 'unknown'\n",
    "full_data['product_category_name'] = full_data['product_category_name'].replace(['nan', ''], 'unknown')\n",
    "full_data['product_category_name_english'] = full_data['product_category_name_english'].replace(['nan', ''], 'unknown')\n",
    "\n",
    "# 3. Verify\n",
    "'''print(\"Missing values after cleaning:\")\n",
    "print(full_data[['product_category_name', 'product_category_name_english']].isnull().sum())\n",
    "print(\"\\nCategory counts:\")\n",
    "print(full_data['product_category_name_english'].value_counts(dropna=False))'''\n"
   ]
  },
  {
   "cell_type": "code",
   "execution_count": 33,
   "id": "458e8b7d",
   "metadata": {},
   "outputs": [],
   "source": [
    "#save cleaned data to new csv\n",
    "\n",
    "full_data.to_csv(\"../Data/cleaned_ecommerce_data.csv\", index=False)\n"
   ]
  }
 ],
 "metadata": {
  "kernelspec": {
   "display_name": ".venv",
   "language": "python",
   "name": "python3"
  },
  "language_info": {
   "codemirror_mode": {
    "name": "ipython",
    "version": 3
   },
   "file_extension": ".py",
   "mimetype": "text/x-python",
   "name": "python",
   "nbconvert_exporter": "python",
   "pygments_lexer": "ipython3",
   "version": "3.10.11"
  }
 },
 "nbformat": 4,
 "nbformat_minor": 5
}
